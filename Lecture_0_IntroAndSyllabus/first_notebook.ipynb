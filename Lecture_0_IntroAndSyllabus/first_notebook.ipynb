{
 "cells": [
  {
   "cell_type": "code",
   "execution_count": null,
   "id": "e5aa8d59",
   "metadata": {},
   "outputs": [],
   "source": [
    "print(\"My name is Grace Tao\")"
   ]
  },
  {
   "cell_type": "markdown",
   "id": "42772dcd",
   "metadata": {},
   "source": [
    "<font size=\"5\"> This is my first Jupyter notebook."
   ]
  }
 ],
 "metadata": {
  "language_info": {
   "name": "python"
  }
 },
 "nbformat": 4,
 "nbformat_minor": 5
}
